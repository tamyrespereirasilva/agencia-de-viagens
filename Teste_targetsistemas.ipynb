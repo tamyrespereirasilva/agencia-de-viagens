{
  "nbformat": 4,
  "nbformat_minor": 0,
  "metadata": {
    "colab": {
      "provenance": [],
      "authorship_tag": "ABX9TyOt2cHdfOY0rnNhzGYTX0we",
      "include_colab_link": true
    },
    "kernelspec": {
      "name": "python3",
      "display_name": "Python 3"
    },
    "language_info": {
      "name": "python"
    }
  },
  "cells": [
    {
      "cell_type": "markdown",
      "metadata": {
        "id": "view-in-github",
        "colab_type": "text"
      },
      "source": [
        "<a href=\"https://colab.research.google.com/github/tamyrespereirasilva/agencia-de-viagens/blob/master/Teste_targetsistemas.ipynb\" target=\"_parent\"><img src=\"https://colab.research.google.com/assets/colab-badge.svg\" alt=\"Open In Colab\"/></a>"
      ]
    },
    {
      "cell_type": "markdown",
      "source": [
        "2) Dado a sequência de Fibonacci, onde se inicia por 0 e 1 e o próximo valor sempre será a soma dos 2 valores anteriores (exemplo: 0, 1, 1, 2, 3, 5, 8, 13, 21, 34...), escreva um programa na linguagem que desejar onde, informado um número, ele calcule a sequência de Fibonacci e retorne uma mensagem avisando se o número informado pertence ou não a sequência."
      ],
      "metadata": {
        "id": "Pnl2jZfV697C"
      }
    },
    {
      "cell_type": "code",
      "source": [
        "def main():\n",
        "    intInput = int(input(\"Entre com numero:\"))\n",
        "\n",
        "    num0, num1, num2 = 0, 1, 1\n",
        "    \n",
        "    if intInput in set([num0, num1, num2]):\n",
        "        print(\"Pertence a sequencia\")\n",
        "\n",
        "    while num0 < intInput:\n",
        "        num0 = num1 + num2\n",
        "        num2 = num1\n",
        "        num1 = num0\n",
        "\n",
        "    if num0 == intInput:\n",
        "        print(\"Pertence a sequencia\")\n",
        "    else:\n",
        "        print(\"Não Pertence a sequencia\")\n",
        "\n",
        "\n",
        "if __name__ == \"__main__\":\n",
        "    main()"
      ],
      "metadata": {
        "colab": {
          "base_uri": "https://localhost:8080/"
        },
        "id": "es04G03Y7aB_",
        "outputId": "356efdea-d50e-4997-a9ee-6c7905364cb0"
      },
      "execution_count": 7,
      "outputs": [
        {
          "output_type": "stream",
          "name": "stdout",
          "text": [
            "Entre com numero:15\n",
            "NÃO Pertence a sequencia\n"
          ]
        }
      ]
    },
    {
      "cell_type": "markdown",
      "source": [
        "3) Dado um vetor que guarda o valor de faturamento diário de uma distribuidora, faça um programa, na linguagem que desejar, que calcule e retorne:\n",
        "• O menor valor de faturamento ocorrido em um dia do mês;\n",
        "• O maior valor de faturamento ocorrido em um dia do mês;\n",
        "• Número de dias no mês em que o valor de faturamento diário foi superior à média mensal.\n",
        "\n",
        "IMPORTANTE:\n",
        "a) Usar o json ou xml disponível como fonte dos dados do faturamento mensal;\n",
        "b) Podem existir dias sem faturamento, como nos finais de semana e feriados. Estes dias devem ser ignorados no cálculo da média;"
      ],
      "metadata": {
        "id": "BtR811dj7A1x"
      }
    },
    {
      "cell_type": "code",
      "source": [
        "def main():\n",
        "    faturamento = {\n",
        "        \"SP\": 67836.43,\n",
        "        \"RJ\": 36678.66,\n",
        "        \"MG\": 29229.88,\n",
        "        \"ES\": 27165.48,\n",
        "        \"OUTROS\": 19849.53\n",
        "    }\n",
        "\n",
        "    soma = sum(map(lambda x: float(x), faturamento.values()))\n",
        "\n",
        "    for uf, valor in faturamento.items():\n",
        "        porcentual = (valor / soma) * 100\n",
        "        print(f\"{uf} – {porcentual:3.2f}%\")\n",
        "\n",
        "\n",
        "if __name__ == \"__main__\":\n",
        "    main()"
      ],
      "metadata": {
        "colab": {
          "base_uri": "https://localhost:8080/"
        },
        "id": "YhbuhhR865rB",
        "outputId": "9b0ab5d4-d82a-4b39-aa94-03c8af5b3eb4"
      },
      "execution_count": 9,
      "outputs": [
        {
          "output_type": "stream",
          "name": "stdout",
          "text": [
            "SP – 37.53%\n",
            "RJ – 20.29%\n",
            "MG – 16.17%\n",
            "ES – 15.03%\n",
            "OUTROS – 10.98%\n"
          ]
        }
      ]
    },
    {
      "cell_type": "markdown",
      "source": [
        "5) Escreva um programa que inverta os caracteres de um string.\n",
        "\n",
        "IMPORTANTE:\n",
        "a) Essa string pode ser informada através de qualquer entrada de sua preferência ou pode ser previamente definida no código;\n",
        "b) Evite usar funções prontas, como, por exemplo, reverse;\n",
        "\n"
      ],
      "metadata": {
        "id": "sC1rGCwz71Yf"
      }
    },
    {
      "cell_type": "code",
      "source": [
        "def main():\n",
        "    strInput = input(\"Entre com a palavra: \")\n",
        "\n",
        "    start, end = 0, len(strInput)-1\n",
        "\n",
        "    while start < end:\n",
        "        temp = strInput[end]\n",
        "        strInput = strInput[:end] + strInput[start] + strInput[end+1:]\n",
        "        strInput = strInput[:start] + temp + strInput[start+1:]\n",
        "        start+=1\n",
        "        end-=1\n",
        "\n",
        "    print(f\"A palavra invertida é: {strInput}\")\n",
        "\n",
        "if __name__ == \"__main__\":\n",
        "    main()"
      ],
      "metadata": {
        "colab": {
          "base_uri": "https://localhost:8080/"
        },
        "id": "9EkEuQyY8Ifu",
        "outputId": "5b9064e1-c339-4171-d7cc-cb7c18fe4ccf"
      },
      "execution_count": 10,
      "outputs": [
        {
          "output_type": "stream",
          "name": "stdout",
          "text": [
            "Entre com a palavra: Bola\n",
            "A palavra invertida é: aloB\n"
          ]
        }
      ]
    },
    {
      "cell_type": "code",
      "source": [],
      "metadata": {
        "id": "VVwrNkF-8714"
      },
      "execution_count": null,
      "outputs": []
    }
  ]
}